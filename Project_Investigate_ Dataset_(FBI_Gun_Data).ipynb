{
 "cells": [
  {
   "cell_type": "markdown",
   "id": "996a8a58",
   "metadata": {
    "slideshow": {
     "slide_type": "slide"
    }
   },
   "source": [
    "# Project: Investigate a Dataset (FBI Gun Data)\n",
    "\n",
    "## Table of content\n",
    "<ul>\n",
    "    <li><a href=\"#intro\">Introduction</a></li>\n",
    "    <li><a href=\"#wrangling\">Data Wrangling</a></li>\n",
    "    <li><a href=\"#eda\">Exploratory Data Analysis</a></li>\n",
    "    <li><a href=\"#conclusions\">Conclusions</a></li>\n",
    "</ul>"
   ]
  },
  {
   "cell_type": "markdown",
   "id": "7d254c97",
   "metadata": {
    "slideshow": {
     "slide_type": "slide"
    }
   },
   "source": [
    "<a id='intro'></a>\n",
    "## Introduction\n",
    "\n",
    "I will be investigating a 19 year data set from the FBI's National Instant Criminal Background Check System (NICS) spanning from 1998 to 2017. The NICS system is used to determine the eligibility of a person to purchase firearms in the US based on their criminal records. I will also use the U.S census data to retrieve more insights on demographics of the gun Data.\n",
    "\n",
    "##### For sake of clarity, here are some terms we would find in the data and their meanings as given by NICS.\n",
    "1. __PrePawn__: background checks requested by an officially-licensed Federal Firearms Licensee (FFL) on prospective firearm transferees seeking to pledge or pawn a firearm as security for the payment or repayment of money, prior to actually pledging or pawning the firearm.\n",
    "\n",
    "\n",
    "2. __Redemption__: background checks requested by an officially-licensed FFL on prospective firearm transferees attempting to regain possession of a firearm after pledging or pawning a firearm as security at a pawn shop.\n",
    "\n",
    "\n",
    "3. __Returned__: background checks requested by criminal justice/law enforcement agencies prior to returning a firearm in its possession to the respective transferee, to ensure the individual is not prohibited.\n",
    "\n",
    "\n",
    "4. __Rentals__: background checks requested by an officially-licensed FFL on prospective firearm transferees attempting to possess a firearm when the firearm is loaned or rented for use off the premises of the business.\n",
    "\n",
    "\n",
    "5. __Private Sale__: background checks requested by an officially-licensed FFL on prospective firearm transferees attempting to possess a firearm from a private party seller who is not an officially-licensed FFL.\n",
    "\n",
    "\n",
    "6. __Return to Seller__: background checks requested by an officially-licensed FFL on prospective firearm transferees attempting to possess a firearm from a private party seller who is not an officially-licensed FFL."
   ]
  },
  {
   "cell_type": "markdown",
   "id": "9f8b06e1",
   "metadata": {
    "slideshow": {
     "slide_type": "subslide"
    }
   },
   "source": [
    "In my analyis, i will try to extract the following information from the dataset;\n",
    "\n",
    "1. Which state has the highest and least number of firearm checks Respectively \n",
    "2. which year recorded the highest number of firearm checks\n",
    "3. What type of firearms were registered the most\n",
    "4. what is the national average on total background checks\n",
    "5. how many states are above and below the national average\n"
   ]
  },
  {
   "cell_type": "code",
   "execution_count": 1,
   "id": "81886f04",
   "metadata": {
    "slideshow": {
     "slide_type": "fragment"
    }
   },
   "outputs": [],
   "source": [
    "import pandas as pd\n",
    "import matplotlib.pyplot as plt\n",
    "import seaborn as sns\n",
    "import numpy as np\n",
    "%matplotlib inline\n",
    "sns.set_theme(style=\"dark\")"
   ]
  },
  {
   "cell_type": "markdown",
   "id": "b28efc37",
   "metadata": {
    "slideshow": {
     "slide_type": "slide"
    }
   },
   "source": [
    "<a id='wrangling'></a>\n",
    "#### Data Wrangling"
   ]
  },
  {
   "cell_type": "code",
   "execution_count": 2,
   "id": "103b4aec",
   "metadata": {
    "slideshow": {
     "slide_type": "subslide"
    }
   },
   "outputs": [
    {
     "data": {
      "text/html": [
       "<div>\n",
       "<style scoped>\n",
       "    .dataframe tbody tr th:only-of-type {\n",
       "        vertical-align: middle;\n",
       "    }\n",
       "\n",
       "    .dataframe tbody tr th {\n",
       "        vertical-align: top;\n",
       "    }\n",
       "\n",
       "    .dataframe thead th {\n",
       "        text-align: right;\n",
       "    }\n",
       "</style>\n",
       "<table border=\"1\" class=\"dataframe\">\n",
       "  <thead>\n",
       "    <tr style=\"text-align: right;\">\n",
       "      <th></th>\n",
       "      <th>month</th>\n",
       "      <th>state</th>\n",
       "      <th>permit</th>\n",
       "      <th>permit_recheck</th>\n",
       "      <th>handgun</th>\n",
       "      <th>long_gun</th>\n",
       "      <th>other</th>\n",
       "      <th>multiple</th>\n",
       "      <th>admin</th>\n",
       "      <th>prepawn_handgun</th>\n",
       "      <th>...</th>\n",
       "      <th>returned_other</th>\n",
       "      <th>rentals_handgun</th>\n",
       "      <th>rentals_long_gun</th>\n",
       "      <th>private_sale_handgun</th>\n",
       "      <th>private_sale_long_gun</th>\n",
       "      <th>private_sale_other</th>\n",
       "      <th>return_to_seller_handgun</th>\n",
       "      <th>return_to_seller_long_gun</th>\n",
       "      <th>return_to_seller_other</th>\n",
       "      <th>totals</th>\n",
       "    </tr>\n",
       "  </thead>\n",
       "  <tbody>\n",
       "    <tr>\n",
       "      <th>0</th>\n",
       "      <td>2017-09</td>\n",
       "      <td>Alabama</td>\n",
       "      <td>16717.0</td>\n",
       "      <td>0.0</td>\n",
       "      <td>5734.0</td>\n",
       "      <td>6320.0</td>\n",
       "      <td>221.0</td>\n",
       "      <td>317</td>\n",
       "      <td>0.0</td>\n",
       "      <td>15.0</td>\n",
       "      <td>...</td>\n",
       "      <td>0.0</td>\n",
       "      <td>0.0</td>\n",
       "      <td>0.0</td>\n",
       "      <td>9.0</td>\n",
       "      <td>16.0</td>\n",
       "      <td>3.0</td>\n",
       "      <td>0.0</td>\n",
       "      <td>0.0</td>\n",
       "      <td>3.0</td>\n",
       "      <td>32019</td>\n",
       "    </tr>\n",
       "    <tr>\n",
       "      <th>1</th>\n",
       "      <td>2017-09</td>\n",
       "      <td>Alaska</td>\n",
       "      <td>209.0</td>\n",
       "      <td>2.0</td>\n",
       "      <td>2320.0</td>\n",
       "      <td>2930.0</td>\n",
       "      <td>219.0</td>\n",
       "      <td>160</td>\n",
       "      <td>0.0</td>\n",
       "      <td>5.0</td>\n",
       "      <td>...</td>\n",
       "      <td>0.0</td>\n",
       "      <td>0.0</td>\n",
       "      <td>0.0</td>\n",
       "      <td>17.0</td>\n",
       "      <td>24.0</td>\n",
       "      <td>1.0</td>\n",
       "      <td>0.0</td>\n",
       "      <td>0.0</td>\n",
       "      <td>0.0</td>\n",
       "      <td>6303</td>\n",
       "    </tr>\n",
       "    <tr>\n",
       "      <th>2</th>\n",
       "      <td>2017-09</td>\n",
       "      <td>Arizona</td>\n",
       "      <td>5069.0</td>\n",
       "      <td>382.0</td>\n",
       "      <td>11063.0</td>\n",
       "      <td>7946.0</td>\n",
       "      <td>920.0</td>\n",
       "      <td>631</td>\n",
       "      <td>0.0</td>\n",
       "      <td>13.0</td>\n",
       "      <td>...</td>\n",
       "      <td>0.0</td>\n",
       "      <td>0.0</td>\n",
       "      <td>0.0</td>\n",
       "      <td>38.0</td>\n",
       "      <td>12.0</td>\n",
       "      <td>2.0</td>\n",
       "      <td>0.0</td>\n",
       "      <td>0.0</td>\n",
       "      <td>0.0</td>\n",
       "      <td>28394</td>\n",
       "    </tr>\n",
       "    <tr>\n",
       "      <th>3</th>\n",
       "      <td>2017-09</td>\n",
       "      <td>Arkansas</td>\n",
       "      <td>2935.0</td>\n",
       "      <td>632.0</td>\n",
       "      <td>4347.0</td>\n",
       "      <td>6063.0</td>\n",
       "      <td>165.0</td>\n",
       "      <td>366</td>\n",
       "      <td>51.0</td>\n",
       "      <td>12.0</td>\n",
       "      <td>...</td>\n",
       "      <td>0.0</td>\n",
       "      <td>0.0</td>\n",
       "      <td>0.0</td>\n",
       "      <td>13.0</td>\n",
       "      <td>23.0</td>\n",
       "      <td>0.0</td>\n",
       "      <td>0.0</td>\n",
       "      <td>2.0</td>\n",
       "      <td>1.0</td>\n",
       "      <td>17747</td>\n",
       "    </tr>\n",
       "    <tr>\n",
       "      <th>4</th>\n",
       "      <td>2017-09</td>\n",
       "      <td>California</td>\n",
       "      <td>57839.0</td>\n",
       "      <td>0.0</td>\n",
       "      <td>37165.0</td>\n",
       "      <td>24581.0</td>\n",
       "      <td>2984.0</td>\n",
       "      <td>0</td>\n",
       "      <td>0.0</td>\n",
       "      <td>0.0</td>\n",
       "      <td>...</td>\n",
       "      <td>0.0</td>\n",
       "      <td>0.0</td>\n",
       "      <td>0.0</td>\n",
       "      <td>0.0</td>\n",
       "      <td>0.0</td>\n",
       "      <td>0.0</td>\n",
       "      <td>0.0</td>\n",
       "      <td>0.0</td>\n",
       "      <td>0.0</td>\n",
       "      <td>123506</td>\n",
       "    </tr>\n",
       "  </tbody>\n",
       "</table>\n",
       "<p>5 rows × 27 columns</p>\n",
       "</div>"
      ],
      "text/plain": [
       "     month       state   permit  permit_recheck  handgun  long_gun   other  \\\n",
       "0  2017-09     Alabama  16717.0             0.0   5734.0    6320.0   221.0   \n",
       "1  2017-09      Alaska    209.0             2.0   2320.0    2930.0   219.0   \n",
       "2  2017-09     Arizona   5069.0           382.0  11063.0    7946.0   920.0   \n",
       "3  2017-09    Arkansas   2935.0           632.0   4347.0    6063.0   165.0   \n",
       "4  2017-09  California  57839.0             0.0  37165.0   24581.0  2984.0   \n",
       "\n",
       "   multiple  admin  prepawn_handgun  ...  returned_other  rentals_handgun  \\\n",
       "0       317    0.0             15.0  ...             0.0              0.0   \n",
       "1       160    0.0              5.0  ...             0.0              0.0   \n",
       "2       631    0.0             13.0  ...             0.0              0.0   \n",
       "3       366   51.0             12.0  ...             0.0              0.0   \n",
       "4         0    0.0              0.0  ...             0.0              0.0   \n",
       "\n",
       "   rentals_long_gun  private_sale_handgun  private_sale_long_gun  \\\n",
       "0               0.0                   9.0                   16.0   \n",
       "1               0.0                  17.0                   24.0   \n",
       "2               0.0                  38.0                   12.0   \n",
       "3               0.0                  13.0                   23.0   \n",
       "4               0.0                   0.0                    0.0   \n",
       "\n",
       "   private_sale_other  return_to_seller_handgun  return_to_seller_long_gun  \\\n",
       "0                 3.0                       0.0                        0.0   \n",
       "1                 1.0                       0.0                        0.0   \n",
       "2                 2.0                       0.0                        0.0   \n",
       "3                 0.0                       0.0                        2.0   \n",
       "4                 0.0                       0.0                        0.0   \n",
       "\n",
       "   return_to_seller_other  totals  \n",
       "0                     3.0   32019  \n",
       "1                     0.0    6303  \n",
       "2                     0.0   28394  \n",
       "3                     1.0   17747  \n",
       "4                     0.0  123506  \n",
       "\n",
       "[5 rows x 27 columns]"
      ]
     },
     "execution_count": 2,
     "metadata": {},
     "output_type": "execute_result"
    }
   ],
   "source": [
    "# I'll start working with the NICS data to answer the first set of questions.\n",
    "NICS_df = pd.read_excel(r'gun_data.xls')\n",
    "NICS_df.head()"
   ]
  },
  {
   "cell_type": "markdown",
   "id": "0cbbfecf",
   "metadata": {
    "slideshow": {
     "slide_type": "slide"
    }
   },
   "source": [
    "#### General properties"
   ]
  },
  {
   "cell_type": "code",
   "execution_count": 3,
   "id": "fb215a48",
   "metadata": {
    "slideshow": {
     "slide_type": "subslide"
    }
   },
   "outputs": [
    {
     "name": "stdout",
     "output_type": "stream",
     "text": [
      "<class 'pandas.core.frame.DataFrame'>\n",
      "RangeIndex: 12485 entries, 0 to 12484\n",
      "Data columns (total 27 columns):\n",
      " #   Column                     Non-Null Count  Dtype  \n",
      "---  ------                     --------------  -----  \n",
      " 0   month                      12485 non-null  object \n",
      " 1   state                      12485 non-null  object \n",
      " 2   permit                     12461 non-null  float64\n",
      " 3   permit_recheck             1100 non-null   float64\n",
      " 4   handgun                    12465 non-null  float64\n",
      " 5   long_gun                   12466 non-null  float64\n",
      " 6   other                      5500 non-null   float64\n",
      " 7   multiple                   12485 non-null  int64  \n",
      " 8   admin                      12462 non-null  float64\n",
      " 9   prepawn_handgun            10542 non-null  float64\n",
      " 10  prepawn_long_gun           10540 non-null  float64\n",
      " 11  prepawn_other              5115 non-null   float64\n",
      " 12  redemption_handgun         10545 non-null  float64\n",
      " 13  redemption_long_gun        10544 non-null  float64\n",
      " 14  redemption_other           5115 non-null   float64\n",
      " 15  returned_handgun           2200 non-null   float64\n",
      " 16  returned_long_gun          2145 non-null   float64\n",
      " 17  returned_other             1815 non-null   float64\n",
      " 18  rentals_handgun            990 non-null    float64\n",
      " 19  rentals_long_gun           825 non-null    float64\n",
      " 20  private_sale_handgun       2750 non-null   float64\n",
      " 21  private_sale_long_gun      2750 non-null   float64\n",
      " 22  private_sale_other         2750 non-null   float64\n",
      " 23  return_to_seller_handgun   2475 non-null   float64\n",
      " 24  return_to_seller_long_gun  2750 non-null   float64\n",
      " 25  return_to_seller_other     2255 non-null   float64\n",
      " 26  totals                     12485 non-null  int64  \n",
      "dtypes: float64(23), int64(2), object(2)\n",
      "memory usage: 2.6+ MB\n"
     ]
    }
   ],
   "source": [
    "#here i'll identify if there are duplicate or missing data that would affect\n",
    "#my analysis. \n",
    "NICS_df.info()"
   ]
  },
  {
   "cell_type": "code",
   "execution_count": 4,
   "id": "6ad70e7f",
   "metadata": {
    "slideshow": {
     "slide_type": "subslide"
    }
   },
   "outputs": [
    {
     "data": {
      "text/plain": [
       "0"
      ]
     },
     "execution_count": 4,
     "metadata": {},
     "output_type": "execute_result"
    }
   ],
   "source": [
    "NICS_df.duplicated().sum()"
   ]
  },
  {
   "cell_type": "code",
   "execution_count": 5,
   "id": "e7363c46",
   "metadata": {
    "slideshow": {
     "slide_type": "slide"
    }
   },
   "outputs": [
    {
     "data": {
      "text/plain": [
       "month                          227\n",
       "state                           55\n",
       "permit                        5390\n",
       "permit_recheck                 168\n",
       "handgun                       7381\n",
       "long_gun                      8350\n",
       "other                         1226\n",
       "multiple                      1387\n",
       "admin                          499\n",
       "prepawn_handgun                 90\n",
       "prepawn_long_gun               133\n",
       "prepawn_other                   16\n",
       "redemption_handgun            1893\n",
       "redemption_long_gun           2370\n",
       "redemption_other                47\n",
       "returned_handgun               237\n",
       "returned_long_gun              113\n",
       "returned_other                  34\n",
       "rentals_handgun                  9\n",
       "rentals_long_gun                 8\n",
       "private_sale_handgun           152\n",
       "private_sale_long_gun          136\n",
       "private_sale_other              43\n",
       "return_to_seller_handgun        17\n",
       "return_to_seller_long_gun       17\n",
       "return_to_seller_other           5\n",
       "totals                       10218\n",
       "dtype: int64"
      ]
     },
     "execution_count": 5,
     "metadata": {},
     "output_type": "execute_result"
    }
   ],
   "source": [
    "#getting the unique values in each column will give me perspective on the variables i'm working with\n",
    "NICS_df.nunique()"
   ]
  },
  {
   "cell_type": "markdown",
   "id": "fe7e42d8",
   "metadata": {
    "slideshow": {
     "slide_type": "slide"
    }
   },
   "source": [
    "#### Data cleaning\n",
    "\n",
    "From examining the data, i can see there are no duplicate values and the missing values are by my estimation a case of no corresponding activity in those variables, hence has no impact in my analysis.\n",
    "\n",
    "I can also tell from using nunique that the dataframe consists of data from 50 U.S states and its other 5 territories along with 227 months of data for each state.\n",
    "\n",
    "The columns are divided into 7 different types of background check transactions.(Refer to intro section...)"
   ]
  },
  {
   "cell_type": "markdown",
   "id": "54fcf361",
   "metadata": {
    "slideshow": {
     "slide_type": "slide"
    }
   },
   "source": [
    "<a id='eda'></a>\n",
    "## Exploratory Data Analysis"
   ]
  },
  {
   "cell_type": "markdown",
   "id": "e2f7b65d",
   "metadata": {},
   "source": [
    "### Pre-Analysis\n",
    "before answering the question posed at the begining of our anlysis, i will be showing only the histogram for first time permits and gun purchases. This is because other transaction types follow the same trend."
   ]
  },
  {
   "cell_type": "markdown",
   "id": "8a23d44d",
   "metadata": {},
   "source": [
    "I will also define a `function` for all the `hist` plots in the analysis to avoid repetitive codes.\n",
    "(_this is part of the review comment_.)"
   ]
  },
  {
   "cell_type": "code",
   "execution_count": 6,
   "id": "12aaf982",
   "metadata": {},
   "outputs": [],
   "source": [
    "def histogram(data):\n",
    "    data.plot(kind='hist', edgecolor = 'black');"
   ]
  },
  {
   "cell_type": "code",
   "execution_count": 7,
   "id": "44d07d1a",
   "metadata": {
    "scrolled": true
   },
   "outputs": [
    {
     "data": {
      "image/png": "[encoded data removed]",
      "text/plain": [
       "<Figure size 432x288 with 1 Axes>"
      ]
     },
     "metadata": {},
     "output_type": "display_data"
    }
   ],
   "source": [
    "histogram(NICS_df['permit'])\n",
    "plt.title('Permit Distribution')\n",
    "plt.xlabel('Permits')\n",
    "plt.ylabel('Total Entries')\n",
    "plt.show()"
   ]
  },
  {
   "cell_type": "code",
   "execution_count": 8,
   "id": "d646622c",
   "metadata": {
    "scrolled": true
   },
   "outputs": [
    {
     "data": {
      "image/png": "[encoded data removed]",
      "text/plain": [
       "<Figure size 432x288 with 1 Axes>"
      ]
     },
     "metadata": {},
     "output_type": "display_data"
    }
   ],
   "source": [
    "histogram(NICS_df['permit_recheck'])\n",
    "plt.title('Permit Rechecks Histogram')\n",
    "plt.xlabel('Permits Rechecks')\n",
    "plt.ylabel('Total Entries')\n",
    "plt.show()"
   ]
  },
  {
   "cell_type": "code",
   "execution_count": 9,
   "id": "5dc7e6f0",
   "metadata": {},
   "outputs": [
    {
     "data": {
      "image/png": "[encoded data removed]",
      "text/plain": [
       "<Figure size 432x288 with 1 Axes>"
      ]
     },
     "metadata": {},
     "output_type": "display_data"
    }
   ],
   "source": [
    "histogram(NICS_df['handgun'])\n",
    "plt.title('Handguns Distribution')\n",
    "plt.xlabel('Handguns')\n",
    "plt.ylabel('Total Entries')\n",
    "plt.show()"
   ]
  },
  {
   "cell_type": "code",
   "execution_count": 10,
   "id": "c4a1a8fd",
   "metadata": {},
   "outputs": [
    {
     "data": {
      "image/png": "[encoded data removed]",
      "text/plain": [
       "<Figure size 432x288 with 1 Axes>"
      ]
     },
     "metadata": {},
     "output_type": "display_data"
    }
   ],
   "source": [
    "histogram(NICS_df['long_gun'])\n",
    "plt.title('Long guns Distribution')\n",
    "plt.xlabel('Long guns')\n",
    "plt.ylabel('Total Entries')\n",
    "plt.show()"
   ]
  },
  {
   "cell_type": "code",
   "execution_count": 11,
   "id": "7875a696",
   "metadata": {},
   "outputs": [
    {
     "data": {
      "image/png": "[encoded data removed]",
      "text/plain": [
       "<Figure size 432x288 with 1 Axes>"
      ]
     },
     "metadata": {},
     "output_type": "display_data"
    }
   ],
   "source": [
    "histogram(NICS_df['other'])\n",
    "plt.title('Others firearms Distribution')\n",
    "plt.xlabel('Other firearms')\n",
    "plt.ylabel('Total Entries')\n",
    "plt.show()"
   ]
  },
  {
   "cell_type": "code",
   "execution_count": 12,
   "id": "b022771f",
   "metadata": {},
   "outputs": [
    {
     "data": {
      "image/png": "[encoded data removed]",
      "text/plain": [
       "<Figure size 432x288 with 1 Axes>"
      ]
     },
     "metadata": {},
     "output_type": "display_data"
    }
   ],
   "source": [
    "histogram(NICS_df['multiple'])\n",
    "plt.title('Multiple Firearm Checks')\n",
    "plt.xlabel('firearms')\n",
    "plt.ylabel('Total Entries')\n",
    "plt.show()"
   ]
  },
  {
   "cell_type": "markdown",
   "id": "dcb0a726",
   "metadata": {},
   "source": [
    "<div class=\"alert-success\">\n",
    "    <h4>General Histogram Findings:</h4>\n",
    "    \n",
    "    \n",
    "From the chart, majority of background checks are within the first range of distribution. like permits, handguns and long guns. The remaining seem to have a single range.\n",
    "    \n",
    "As mentioned previously, the histogram only analyzes first time purchases, but the rest types of transaction mirrors the result of this analysis.\n",
    "    </div>"
   ]
  },
  {
   "cell_type": "markdown",
   "id": "801efa2c",
   "metadata": {
    "slideshow": {
     "slide_type": "subslide"
    }
   },
   "source": [
    "## Research Question 1\n",
    "##### Which state has the highest and least number of firearm checks Respectively ?"
   ]
  },
  {
   "cell_type": "markdown",
   "id": "3ad7eeb3",
   "metadata": {},
   "source": [
    "To answer this, i will use the totals column and sum all background check for each unique state. I opted to use a chart as it easily indicates the answer to my question.\n"
   ]
  },
  {
   "cell_type": "code",
   "execution_count": 13,
   "id": "9ab06431",
   "metadata": {
    "slideshow": {
     "slide_type": "subslide"
    }
   },
   "outputs": [
    {
     "data": {
      "image/png": "[encoded data removed]",
      "text/plain": [
       "<Figure size 1440x576 with 1 Axes>"
      ]
     },
     "metadata": {},
     "output_type": "display_data"
    }
   ],
   "source": [
    "NICS_df.groupby('state')['totals'].sum().plot(x='state', y='totals', kind='bar',color=('red'), figsize= (20,8));\n",
    "plt.title('Firearm Sales By States', fontsize=25)\n",
    "plt.xlabel('States',fontsize=18)\n",
    "plt.ylabel('Total Sales',fontsize=18)\n",
    "plt.show()\n",
    "\n"
   ]
  },
  {
   "cell_type": "code",
   "execution_count": 14,
   "id": "fece86b3",
   "metadata": {
    "slideshow": {
     "slide_type": "subslide"
    }
   },
   "outputs": [
    {
     "data": {
      "text/plain": [
       "(29762434, 462)"
      ]
     },
     "execution_count": 14,
     "metadata": {},
     "output_type": "execute_result"
    }
   ],
   "source": [
    "#we can know the excat number using sum fuction for the hieghest and lowest totals with groupby.\n",
    "NICS_df.groupby('state')['totals'].sum().max(), NICS_df.groupby('state')['totals'].sum().min()"
   ]
  },
  {
   "cell_type": "markdown",
   "id": "0b5e04f2",
   "metadata": {
    "slideshow": {
     "slide_type": "slide"
    }
   },
   "source": [
    "<div class=\"alert-success\">\n",
    "<H3>Answer 1</H3>\n",
    "Kentuckey and Marianna Islands has the most and least number checks at <strong>29,762,434 and 462</strong> respectively.\n",
    "</div>"
   ]
  },
  {
   "cell_type": "markdown",
   "id": "a9a491ea",
   "metadata": {
    "slideshow": {
     "slide_type": "slide"
    }
   },
   "source": [
    "## Research Question 2\n",
    "##### which year recorded the highest number of firearm checks?"
   ]
  },
  {
   "cell_type": "markdown",
   "id": "b9a05872",
   "metadata": {},
   "source": [
    "<div class=\"alert-danger\">\n",
    "<b><i>NB:</i></b><br/>\n",
    "It's was very important that i changed the data type for the 'month' column because It would continue to give an incorrect plot until assigned accurate data type.\n",
    "</div>"
   ]
  },
  {
   "cell_type": "code",
   "execution_count": 15,
   "id": "a45cd02a",
   "metadata": {
    "slideshow": {
     "slide_type": "subslide"
    }
   },
   "outputs": [],
   "source": [
    "NICS_df['month'] = pd.to_datetime(NICS_df['month'])"
   ]
  },
  {
   "cell_type": "markdown",
   "id": "ab830327",
   "metadata": {},
   "source": [
    "Because of the variable and date span being investigated, i felt that scatter plot would be the best for visualizing this question."
   ]
  },
  {
   "cell_type": "code",
   "execution_count": 16,
   "id": "f5ff88e0",
   "metadata": {
    "slideshow": {
     "slide_type": "slide"
    }
   },
   "outputs": [
    {
     "name": "stderr",
     "output_type": "stream",
     "text": [
      "*c* argument looks like a single numeric RGB or RGBA sequence, which should be avoided as value-mapping will have precedence in case its length matches with *x* & *y*.  Please use the *color* keyword-argument or provide a 2-D array with a single row if you intend to specify the same RGB or RGBA value for all points.\n"
     ]
    },
    {
     "data": {
      "image/png": "[encoded data removed]",
      "text/plain": [
       "<Figure size 1440x576 with 1 Axes>"
      ]
     },
     "metadata": {},
     "output_type": "display_data"
    }
   ],
   "source": [
    "NICS_df.plot(x='month', y= 'totals', kind='scatter', figsize= (20,8));\n",
    "plt.title('Total background checks by state', fontsize=25)\n",
    "plt.xlabel('Month',fontsize=18)\n",
    "plt.ylabel('Totals',fontsize=18)\n",
    "plt.show()"
   ]
  },
  {
   "cell_type": "markdown",
   "id": "698ce20a",
   "metadata": {
    "slideshow": {
     "slide_type": "slide"
    }
   },
   "source": [
    "<div class=\"alert-success\">\n",
    "This plot did not only answer the posed question of record highest year of checks, it also showed the general trend of gun purchase within the timeframe of the dataframe I'm working on.\n",
    "\n",
    "### Answer 2\n",
    "1. 2017 has record for the highest number of background checks on firearm purchases.\n",
    "\n",
    "\n",
    "2. I can also see that there has been a steady increase in fire arm purchases in the last 19 years of the dataframe.\n",
    "    </div>"
   ]
  },
  {
   "cell_type": "markdown",
   "id": "beb1296a",
   "metadata": {
    "slideshow": {
     "slide_type": "subslide"
    }
   },
   "source": [
    "## Research Question 3\n",
    "##### Which type of firearms were registered the most ?"
   ]
  },
  {
   "cell_type": "code",
   "execution_count": 17,
   "id": "b19efe38",
   "metadata": {
    "slideshow": {
     "slide_type": "slide"
    }
   },
   "outputs": [
    {
     "data": {
      "text/html": [
       "<div>\n",
       "<style scoped>\n",
       "    .dataframe tbody tr th:only-of-type {\n",
       "        vertical-align: middle;\n",
       "    }\n",
       "\n",
       "    .dataframe tbody tr th {\n",
       "        vertical-align: top;\n",
       "    }\n",
       "\n",
       "    .dataframe thead th {\n",
       "        text-align: right;\n",
       "    }\n",
       "</style>\n",
       "<table border=\"1\" class=\"dataframe\">\n",
       "  <thead>\n",
       "    <tr style=\"text-align: right;\">\n",
       "      <th></th>\n",
       "      <th>permit</th>\n",
       "      <th>permit_recheck</th>\n",
       "      <th>handgun</th>\n",
       "      <th>long_gun</th>\n",
       "      <th>other</th>\n",
       "      <th>multiple</th>\n",
       "      <th>admin</th>\n",
       "      <th>prepawn_handgun</th>\n",
       "      <th>prepawn_long_gun</th>\n",
       "      <th>prepawn_other</th>\n",
       "      <th>...</th>\n",
       "      <th>returned_other</th>\n",
       "      <th>rentals_handgun</th>\n",
       "      <th>rentals_long_gun</th>\n",
       "      <th>private_sale_handgun</th>\n",
       "      <th>private_sale_long_gun</th>\n",
       "      <th>private_sale_other</th>\n",
       "      <th>return_to_seller_handgun</th>\n",
       "      <th>return_to_seller_long_gun</th>\n",
       "      <th>return_to_seller_other</th>\n",
       "      <th>totals</th>\n",
       "    </tr>\n",
       "  </thead>\n",
       "  <tbody>\n",
       "    <tr>\n",
       "      <th>count</th>\n",
       "      <td>12461.000000</td>\n",
       "      <td>1100.000000</td>\n",
       "      <td>12465.000000</td>\n",
       "      <td>12466.000000</td>\n",
       "      <td>5500.000000</td>\n",
       "      <td>12485.000000</td>\n",
       "      <td>12462.000000</td>\n",
       "      <td>10542.000000</td>\n",
       "      <td>10540.000000</td>\n",
       "      <td>5115.000000</td>\n",
       "      <td>...</td>\n",
       "      <td>1815.000000</td>\n",
       "      <td>990.000000</td>\n",
       "      <td>825.000000</td>\n",
       "      <td>2750.000000</td>\n",
       "      <td>2750.000000</td>\n",
       "      <td>2750.000000</td>\n",
       "      <td>2475.000000</td>\n",
       "      <td>2750.000000</td>\n",
       "      <td>2255.000000</td>\n",
       "      <td>12485.000000</td>\n",
       "    </tr>\n",
       "    <tr>\n",
       "      <th>mean</th>\n",
       "      <td>6413.629404</td>\n",
       "      <td>1165.956364</td>\n",
       "      <td>5940.881107</td>\n",
       "      <td>7810.847585</td>\n",
       "      <td>360.471636</td>\n",
       "      <td>268.603364</td>\n",
       "      <td>58.898090</td>\n",
       "      <td>4.828021</td>\n",
       "      <td>7.834156</td>\n",
       "      <td>0.165591</td>\n",
       "      <td>...</td>\n",
       "      <td>1.027548</td>\n",
       "      <td>0.076768</td>\n",
       "      <td>0.087273</td>\n",
       "      <td>14.936000</td>\n",
       "      <td>11.602909</td>\n",
       "      <td>1.030182</td>\n",
       "      <td>0.402020</td>\n",
       "      <td>0.441818</td>\n",
       "      <td>0.105987</td>\n",
       "      <td>21595.725911</td>\n",
       "    </tr>\n",
       "    <tr>\n",
       "      <th>std</th>\n",
       "      <td>23752.338269</td>\n",
       "      <td>9224.200609</td>\n",
       "      <td>8618.584060</td>\n",
       "      <td>9309.846140</td>\n",
       "      <td>1349.478273</td>\n",
       "      <td>783.185073</td>\n",
       "      <td>604.814818</td>\n",
       "      <td>10.907756</td>\n",
       "      <td>16.468028</td>\n",
       "      <td>1.057105</td>\n",
       "      <td>...</td>\n",
       "      <td>4.386296</td>\n",
       "      <td>0.634503</td>\n",
       "      <td>0.671649</td>\n",
       "      <td>71.216021</td>\n",
       "      <td>54.253090</td>\n",
       "      <td>4.467843</td>\n",
       "      <td>1.446568</td>\n",
       "      <td>1.528223</td>\n",
       "      <td>0.427363</td>\n",
       "      <td>32591.418387</td>\n",
       "    </tr>\n",
       "    <tr>\n",
       "      <th>min</th>\n",
       "      <td>0.000000</td>\n",
       "      <td>0.000000</td>\n",
       "      <td>0.000000</td>\n",
       "      <td>0.000000</td>\n",
       "      <td>0.000000</td>\n",
       "      <td>0.000000</td>\n",
       "      <td>0.000000</td>\n",
       "      <td>0.000000</td>\n",
       "      <td>0.000000</td>\n",
       "      <td>0.000000</td>\n",
       "      <td>...</td>\n",
       "      <td>0.000000</td>\n",
       "      <td>0.000000</td>\n",
       "      <td>0.000000</td>\n",
       "      <td>0.000000</td>\n",
       "      <td>0.000000</td>\n",
       "      <td>0.000000</td>\n",
       "      <td>0.000000</td>\n",
       "      <td>0.000000</td>\n",
       "      <td>0.000000</td>\n",
       "      <td>0.000000</td>\n",
       "    </tr>\n",
       "    <tr>\n",
       "      <th>25%</th>\n",
       "      <td>0.000000</td>\n",
       "      <td>0.000000</td>\n",
       "      <td>865.000000</td>\n",
       "      <td>2078.250000</td>\n",
       "      <td>17.000000</td>\n",
       "      <td>15.000000</td>\n",
       "      <td>0.000000</td>\n",
       "      <td>0.000000</td>\n",
       "      <td>0.000000</td>\n",
       "      <td>0.000000</td>\n",
       "      <td>...</td>\n",
       "      <td>0.000000</td>\n",
       "      <td>0.000000</td>\n",
       "      <td>0.000000</td>\n",
       "      <td>0.000000</td>\n",
       "      <td>0.000000</td>\n",
       "      <td>0.000000</td>\n",
       "      <td>0.000000</td>\n",
       "      <td>0.000000</td>\n",
       "      <td>0.000000</td>\n",
       "      <td>4638.000000</td>\n",
       "    </tr>\n",
       "    <tr>\n",
       "      <th>50%</th>\n",
       "      <td>518.000000</td>\n",
       "      <td>0.000000</td>\n",
       "      <td>3059.000000</td>\n",
       "      <td>5122.000000</td>\n",
       "      <td>121.000000</td>\n",
       "      <td>125.000000</td>\n",
       "      <td>0.000000</td>\n",
       "      <td>0.000000</td>\n",
       "      <td>1.000000</td>\n",
       "      <td>0.000000</td>\n",
       "      <td>...</td>\n",
       "      <td>0.000000</td>\n",
       "      <td>0.000000</td>\n",
       "      <td>0.000000</td>\n",
       "      <td>0.000000</td>\n",
       "      <td>0.000000</td>\n",
       "      <td>0.000000</td>\n",
       "      <td>0.000000</td>\n",
       "      <td>0.000000</td>\n",
       "      <td>0.000000</td>\n",
       "      <td>12399.000000</td>\n",
       "    </tr>\n",
       "    <tr>\n",
       "      <th>75%</th>\n",
       "      <td>4272.000000</td>\n",
       "      <td>0.000000</td>\n",
       "      <td>7280.000000</td>\n",
       "      <td>10380.750000</td>\n",
       "      <td>354.000000</td>\n",
       "      <td>301.000000</td>\n",
       "      <td>0.000000</td>\n",
       "      <td>5.000000</td>\n",
       "      <td>8.000000</td>\n",
       "      <td>0.000000</td>\n",
       "      <td>...</td>\n",
       "      <td>0.000000</td>\n",
       "      <td>0.000000</td>\n",
       "      <td>0.000000</td>\n",
       "      <td>2.000000</td>\n",
       "      <td>4.000000</td>\n",
       "      <td>0.000000</td>\n",
       "      <td>0.000000</td>\n",
       "      <td>0.000000</td>\n",
       "      <td>0.000000</td>\n",
       "      <td>25453.000000</td>\n",
       "    </tr>\n",
       "    <tr>\n",
       "      <th>max</th>\n",
       "      <td>522188.000000</td>\n",
       "      <td>116681.000000</td>\n",
       "      <td>107224.000000</td>\n",
       "      <td>108058.000000</td>\n",
       "      <td>77929.000000</td>\n",
       "      <td>38907.000000</td>\n",
       "      <td>28083.000000</td>\n",
       "      <td>164.000000</td>\n",
       "      <td>269.000000</td>\n",
       "      <td>49.000000</td>\n",
       "      <td>...</td>\n",
       "      <td>64.000000</td>\n",
       "      <td>12.000000</td>\n",
       "      <td>12.000000</td>\n",
       "      <td>1017.000000</td>\n",
       "      <td>777.000000</td>\n",
       "      <td>71.000000</td>\n",
       "      <td>28.000000</td>\n",
       "      <td>17.000000</td>\n",
       "      <td>4.000000</td>\n",
       "      <td>541978.000000</td>\n",
       "    </tr>\n",
       "  </tbody>\n",
       "</table>\n",
       "<p>8 rows × 25 columns</p>\n",
       "</div>"
      ],
      "text/plain": [
       "              permit  permit_recheck        handgun       long_gun  \\\n",
       "count   12461.000000     1100.000000   12465.000000   12466.000000   \n",
       "mean     6413.629404     1165.956364    5940.881107    7810.847585   \n",
       "std     23752.338269     9224.200609    8618.584060    9309.846140   \n",
       "min         0.000000        0.000000       0.000000       0.000000   \n",
       "25%         0.000000        0.000000     865.000000    2078.250000   \n",
       "50%       518.000000        0.000000    3059.000000    5122.000000   \n",
       "75%      4272.000000        0.000000    7280.000000   10380.750000   \n",
       "max    522188.000000   116681.000000  107224.000000  108058.000000   \n",
       "\n",
       "              other      multiple         admin  prepawn_handgun  \\\n",
       "count   5500.000000  12485.000000  12462.000000     10542.000000   \n",
       "mean     360.471636    268.603364     58.898090         4.828021   \n",
       "std     1349.478273    783.185073    604.814818        10.907756   \n",
       "min        0.000000      0.000000      0.000000         0.000000   \n",
       "25%       17.000000     15.000000      0.000000         0.000000   \n",
       "50%      121.000000    125.000000      0.000000         0.000000   \n",
       "75%      354.000000    301.000000      0.000000         5.000000   \n",
       "max    77929.000000  38907.000000  28083.000000       164.000000   \n",
       "\n",
       "       prepawn_long_gun  prepawn_other  ...  returned_other  rentals_handgun  \\\n",
       "count      10540.000000    5115.000000  ...     1815.000000       990.000000   \n",
       "mean           7.834156       0.165591  ...        1.027548         0.076768   \n",
       "std           16.468028       1.057105  ...        4.386296         0.634503   \n",
       "min            0.000000       0.000000  ...        0.000000         0.000000   \n",
       "25%            0.000000       0.000000  ...        0.000000         0.000000   \n",
       "50%            1.000000       0.000000  ...        0.000000         0.000000   \n",
       "75%            8.000000       0.000000  ...        0.000000         0.000000   \n",
       "max          269.000000      49.000000  ...       64.000000        12.000000   \n",
       "\n",
       "       rentals_long_gun  private_sale_handgun  private_sale_long_gun  \\\n",
       "count        825.000000           2750.000000            2750.000000   \n",
       "mean           0.087273             14.936000              11.602909   \n",
       "std            0.671649             71.216021              54.253090   \n",
       "min            0.000000              0.000000               0.000000   \n",
       "25%            0.000000              0.000000               0.000000   \n",
       "50%            0.000000              0.000000               0.000000   \n",
       "75%            0.000000              2.000000               4.000000   \n",
       "max           12.000000           1017.000000             777.000000   \n",
       "\n",
       "       private_sale_other  return_to_seller_handgun  \\\n",
       "count         2750.000000               2475.000000   \n",
       "mean             1.030182                  0.402020   \n",
       "std              4.467843                  1.446568   \n",
       "min              0.000000                  0.000000   \n",
       "25%              0.000000                  0.000000   \n",
       "50%              0.000000                  0.000000   \n",
       "75%              0.000000                  0.000000   \n",
       "max             71.000000                 28.000000   \n",
       "\n",
       "       return_to_seller_long_gun  return_to_seller_other         totals  \n",
       "count                2750.000000             2255.000000   12485.000000  \n",
       "mean                    0.441818                0.105987   21595.725911  \n",
       "std                     1.528223                0.427363   32591.418387  \n",
       "min                     0.000000                0.000000       0.000000  \n",
       "25%                     0.000000                0.000000    4638.000000  \n",
       "50%                     0.000000                0.000000   12399.000000  \n",
       "75%                     0.000000                0.000000   25453.000000  \n",
       "max                    17.000000                4.000000  541978.000000  \n",
       "\n",
       "[8 rows x 25 columns]"
      ]
     },
     "execution_count": 17,
     "metadata": {},
     "output_type": "execute_result"
    }
   ],
   "source": [
    "NICS_df.describe()"
   ]
  },
  {
   "cell_type": "markdown",
   "id": "7c1ead7d",
   "metadata": {
    "slideshow": {
     "slide_type": "slide"
    }
   },
   "source": [
    "<div class=\"alert-success\">\n",
    "The table above gives an automatically calculated summary for the columns. To answer the research question, pay attention to <b>mean</b> and <b>max</b> rows, as they give the numeric values that answers the research question.\n",
    "<h3>Answer 3</h3>\n",
    "1. Its clear from the summary table that __Long_guns__ are the most purchased firearms in the US accross all the transaction types ahead of handguns.\n",
    "\n",
    "\n",
    "2. I can further extract that most of the purchases are new and direct from FFL stores.\n",
    "    </div>"
   ]
  },
  {
   "cell_type": "markdown",
   "id": "c2949a83",
   "metadata": {
    "slideshow": {
     "slide_type": "slide"
    }
   },
   "source": [
    "## Research Question 4\n",
    "##### what is the national average on total background checks ?\n"
   ]
  },
  {
   "cell_type": "code",
   "execution_count": 18,
   "id": "1648b523",
   "metadata": {
    "slideshow": {
     "slide_type": "subslide"
    }
   },
   "outputs": [
    {
     "name": "stderr",
     "output_type": "stream",
     "text": [
      "/Users/uchennaokolo/anaconda3/envs/Juno_Lee/lib/python3.6/site-packages/ipykernel_launcher.py:1: FutureWarning: DataFrame.mean and DataFrame.median with numeric_only=None will include datetime64 and datetime64tz columns in a future version.\n",
      "  \"\"\"Entry point for launching an IPython kernel.\n"
     ]
    },
    {
     "data": {
      "text/plain": [
       "21596"
      ]
     },
     "execution_count": 18,
     "metadata": {},
     "output_type": "execute_result"
    }
   ],
   "source": [
    "national_average = round(NICS_df.mean().totals)\n",
    "national_average"
   ]
  },
  {
   "cell_type": "markdown",
   "id": "19dac560",
   "metadata": {},
   "source": [
    "<div class=\"alert-success\">\n",
    "    <h3>Answer 4</h3>\n",
    "National average on total gun purchases background check is approximately <b>= 21,596</b><br/>\n",
    "    This was calaculated using the <b><em>.mean( )</em></b> function.\n",
    "    \n",
    "    \n",
    "    \n",
    "Finding the national average will aid in finding states where the citizens are most likely to purchase a firearm. This conclusion will only be based on the number of purchases made and doesn't assume the impact of other possible causations.\n",
    "    </div>"
   ]
  },
  {
   "cell_type": "markdown",
   "id": "4d3d57ad",
   "metadata": {
    "slideshow": {
     "slide_type": "slide"
    }
   },
   "source": [
    "## Research Question 5\n",
    "##### how many states are above and below the national average of total gun background checks ?\n"
   ]
  },
  {
   "cell_type": "markdown",
   "id": "adcf4ab2",
   "metadata": {
    "slideshow": {
     "slide_type": "subslide"
    }
   },
   "source": [
    "i already have the national_average, so i would be creating two sets of dataframes from states average and refrence national_average as a break point between above and below national averages."
   ]
  },
  {
   "cell_type": "markdown",
   "id": "4f263c74",
   "metadata": {
    "slideshow": {
     "slide_type": "slide"
    }
   },
   "source": [
    "## States Average"
   ]
  },
  {
   "cell_type": "markdown",
   "id": "e497da6f",
   "metadata": {},
   "source": [
    "calculating average for each state."
   ]
  },
  {
   "cell_type": "code",
   "execution_count": 19,
   "id": "5cf5d6bc",
   "metadata": {
    "slideshow": {
     "slide_type": "subslide"
    }
   },
   "outputs": [],
   "source": [
    "states_avg = NICS_df.groupby('state').mean().totals"
   ]
  },
  {
   "cell_type": "markdown",
   "id": "6a495c33",
   "metadata": {},
   "source": [
    "To work with the states average, I have to convert it to a dataframe"
   ]
  },
  {
   "cell_type": "code",
   "execution_count": 20,
   "id": "6d2dbc4b",
   "metadata": {
    "slideshow": {
     "slide_type": "subslide"
    }
   },
   "outputs": [
    {
     "data": {
      "text/html": [
       "<div>\n",
       "<style scoped>\n",
       "    .dataframe tbody tr th:only-of-type {\n",
       "        vertical-align: middle;\n",
       "    }\n",
       "\n",
       "    .dataframe tbody tr th {\n",
       "        vertical-align: top;\n",
       "    }\n",
       "\n",
       "    .dataframe thead th {\n",
       "        text-align: right;\n",
       "    }\n",
       "</style>\n",
       "<table border=\"1\" class=\"dataframe\">\n",
       "  <thead>\n",
       "    <tr style=\"text-align: right;\">\n",
       "      <th></th>\n",
       "      <th>totals</th>\n",
       "    </tr>\n",
       "    <tr>\n",
       "      <th>state</th>\n",
       "      <th></th>\n",
       "    </tr>\n",
       "  </thead>\n",
       "  <tbody>\n",
       "    <tr>\n",
       "      <th>Alabama</th>\n",
       "      <td>29542.198238</td>\n",
       "    </tr>\n",
       "    <tr>\n",
       "      <th>Alaska</th>\n",
       "      <td>5011.643172</td>\n",
       "    </tr>\n",
       "    <tr>\n",
       "      <th>Arizona</th>\n",
       "      <td>19496.537445</td>\n",
       "    </tr>\n",
       "    <tr>\n",
       "      <th>Arkansas</th>\n",
       "      <td>16531.422907</td>\n",
       "    </tr>\n",
       "    <tr>\n",
       "      <th>California</th>\n",
       "      <td>83762.392070</td>\n",
       "    </tr>\n",
       "  </tbody>\n",
       "</table>\n",
       "</div>"
      ],
      "text/plain": [
       "                  totals\n",
       "state                   \n",
       "Alabama     29542.198238\n",
       "Alaska       5011.643172\n",
       "Arizona     19496.537445\n",
       "Arkansas    16531.422907\n",
       "California  83762.392070"
      ]
     },
     "execution_count": 20,
     "metadata": {},
     "output_type": "execute_result"
    }
   ],
   "source": [
    "states_avg=states_avg.to_frame()\n",
    "states_avg.head()"
   ]
  },
  {
   "cell_type": "markdown",
   "id": "12166b1c",
   "metadata": {},
   "source": [
    "Index will help me when using pandas query, hence; "
   ]
  },
  {
   "cell_type": "code",
   "execution_count": 21,
   "id": "2b2c8fa5",
   "metadata": {
    "slideshow": {
     "slide_type": "subslide"
    }
   },
   "outputs": [
    {
     "data": {
      "text/html": [
       "<div>\n",
       "<style scoped>\n",
       "    .dataframe tbody tr th:only-of-type {\n",
       "        vertical-align: middle;\n",
       "    }\n",
       "\n",
       "    .dataframe tbody tr th {\n",
       "        vertical-align: top;\n",
       "    }\n",
       "\n",
       "    .dataframe thead th {\n",
       "        text-align: right;\n",
       "    }\n",
       "</style>\n",
       "<table border=\"1\" class=\"dataframe\">\n",
       "  <thead>\n",
       "    <tr style=\"text-align: right;\">\n",
       "      <th></th>\n",
       "      <th>state</th>\n",
       "      <th>totals</th>\n",
       "    </tr>\n",
       "  </thead>\n",
       "  <tbody>\n",
       "    <tr>\n",
       "      <th>0</th>\n",
       "      <td>Alabama</td>\n",
       "      <td>29542.198238</td>\n",
       "    </tr>\n",
       "    <tr>\n",
       "      <th>1</th>\n",
       "      <td>Alaska</td>\n",
       "      <td>5011.643172</td>\n",
       "    </tr>\n",
       "    <tr>\n",
       "      <th>2</th>\n",
       "      <td>Arizona</td>\n",
       "      <td>19496.537445</td>\n",
       "    </tr>\n",
       "    <tr>\n",
       "      <th>3</th>\n",
       "      <td>Arkansas</td>\n",
       "      <td>16531.422907</td>\n",
       "    </tr>\n",
       "    <tr>\n",
       "      <th>4</th>\n",
       "      <td>California</td>\n",
       "      <td>83762.392070</td>\n",
       "    </tr>\n",
       "  </tbody>\n",
       "</table>\n",
       "</div>"
      ],
      "text/plain": [
       "        state        totals\n",
       "0     Alabama  29542.198238\n",
       "1      Alaska   5011.643172\n",
       "2     Arizona  19496.537445\n",
       "3    Arkansas  16531.422907\n",
       "4  California  83762.392070"
      ]
     },
     "execution_count": 21,
     "metadata": {},
     "output_type": "execute_result"
    }
   ],
   "source": [
    "states_avg= states_avg.reset_index()\n",
    "states_avg.head()"
   ]
  },
  {
   "cell_type": "markdown",
   "id": "6da7b54e",
   "metadata": {},
   "source": [
    "I would like to rename columns for proper identification."
   ]
  },
  {
   "cell_type": "code",
   "execution_count": 22,
   "id": "260a5d38",
   "metadata": {
    "slideshow": {
     "slide_type": "slide"
    }
   },
   "outputs": [
    {
     "data": {
      "text/html": [
       "<div>\n",
       "<style scoped>\n",
       "    .dataframe tbody tr th:only-of-type {\n",
       "        vertical-align: middle;\n",
       "    }\n",
       "\n",
       "    .dataframe tbody tr th {\n",
       "        vertical-align: top;\n",
       "    }\n",
       "\n",
       "    .dataframe thead th {\n",
       "        text-align: right;\n",
       "    }\n",
       "</style>\n",
       "<table border=\"1\" class=\"dataframe\">\n",
       "  <thead>\n",
       "    <tr style=\"text-align: right;\">\n",
       "      <th></th>\n",
       "      <th>States</th>\n",
       "      <th>Average_check</th>\n",
       "    </tr>\n",
       "  </thead>\n",
       "  <tbody>\n",
       "    <tr>\n",
       "      <th>0</th>\n",
       "      <td>Alabama</td>\n",
       "      <td>29542.198238</td>\n",
       "    </tr>\n",
       "    <tr>\n",
       "      <th>1</th>\n",
       "      <td>Alaska</td>\n",
       "      <td>5011.643172</td>\n",
       "    </tr>\n",
       "    <tr>\n",
       "      <th>2</th>\n",
       "      <td>Arizona</td>\n",
       "      <td>19496.537445</td>\n",
       "    </tr>\n",
       "    <tr>\n",
       "      <th>3</th>\n",
       "      <td>Arkansas</td>\n",
       "      <td>16531.422907</td>\n",
       "    </tr>\n",
       "    <tr>\n",
       "      <th>4</th>\n",
       "      <td>California</td>\n",
       "      <td>83762.392070</td>\n",
       "    </tr>\n",
       "  </tbody>\n",
       "</table>\n",
       "</div>"
      ],
      "text/plain": [
       "       States  Average_check\n",
       "0     Alabama   29542.198238\n",
       "1      Alaska    5011.643172\n",
       "2     Arizona   19496.537445\n",
       "3    Arkansas   16531.422907\n",
       "4  California   83762.392070"
      ]
     },
     "execution_count": 22,
     "metadata": {},
     "output_type": "execute_result"
    }
   ],
   "source": [
    "column_names = ['States', 'Average_check']\n",
    "states_avg.columns = column_names\n",
    "states_avg.head()"
   ]
  },
  {
   "cell_type": "markdown",
   "id": "ce3983ae",
   "metadata": {
    "slideshow": {
     "slide_type": "slide"
    }
   },
   "source": [
    "### Creating Above Average and Below Average Data frames\n",
    "using pandas query, create two dataframe for above and below national average.\n",
    "\n",
    "create an array containing 'above' for above national average and 'below' for below national average.\n",
    "\n",
    "This process will help my visualization when ploting."
   ]
  },
  {
   "cell_type": "code",
   "execution_count": 23,
   "id": "a24ee9c6",
   "metadata": {},
   "outputs": [
    {
     "data": {
      "text/plain": [
       "19"
      ]
     },
     "execution_count": 23,
     "metadata": {},
     "output_type": "execute_result"
    }
   ],
   "source": [
    "above_avg = states_avg.query('Average_check >= {}'.format(national_average))\n",
    "above_avg = above_avg.reset_index()\n",
    "del above_avg['index']\n",
    "above_avg.shape[0]"
   ]
  },
  {
   "cell_type": "markdown",
   "id": "06612fbb",
   "metadata": {},
   "source": [
    "<div class=\"alert-success\">\n",
    "    <p>This answers the first part of our question. There are <b>19 states</b> above the nattional average</p>\n",
    "    </div>"
   ]
  },
  {
   "cell_type": "code",
   "execution_count": 24,
   "id": "a1577f92",
   "metadata": {
    "scrolled": true,
    "slideshow": {
     "slide_type": "subslide"
    }
   },
   "outputs": [
    {
     "data": {
      "text/plain": [
       "36"
      ]
     },
     "execution_count": 24,
     "metadata": {},
     "output_type": "execute_result"
    }
   ],
   "source": [
    "below_avg = states_avg.query('Average_check < {}'.format(national_average))\n",
    "below_avg = below_avg.reset_index()\n",
    "del below_avg['index']\n",
    "below_avg.shape[0]"
   ]
  },
  {
   "cell_type": "code",
   "execution_count": 25,
   "id": "f8cee097",
   "metadata": {},
   "outputs": [
    {
     "data": {
      "text/html": [
       "<div>\n",
       "<style scoped>\n",
       "    .dataframe tbody tr th:only-of-type {\n",
       "        vertical-align: middle;\n",
       "    }\n",
       "\n",
       "    .dataframe tbody tr th {\n",
       "        vertical-align: top;\n",
       "    }\n",
       "\n",
       "    .dataframe thead th {\n",
       "        text-align: right;\n",
       "    }\n",
       "</style>\n",
       "<table border=\"1\" class=\"dataframe\">\n",
       "  <thead>\n",
       "    <tr style=\"text-align: right;\">\n",
       "      <th></th>\n",
       "      <th>States</th>\n",
       "      <th>Average_check</th>\n",
       "    </tr>\n",
       "  </thead>\n",
       "  <tbody>\n",
       "    <tr>\n",
       "      <th>0</th>\n",
       "      <td>Alaska</td>\n",
       "      <td>5011.643172</td>\n",
       "    </tr>\n",
       "    <tr>\n",
       "      <th>1</th>\n",
       "      <td>Arizona</td>\n",
       "      <td>19496.537445</td>\n",
       "    </tr>\n",
       "  </tbody>\n",
       "</table>\n",
       "</div>"
      ],
      "text/plain": [
       "    States  Average_check\n",
       "0   Alaska    5011.643172\n",
       "1  Arizona   19496.537445"
      ]
     },
     "execution_count": 25,
     "metadata": {},
     "output_type": "execute_result"
    }
   ],
   "source": [
    "below_avg.head(2)"
   ]
  },
  {
   "cell_type": "markdown",
   "id": "fc0a4b6b",
   "metadata": {},
   "source": [
    "<div class=\"alert-success\">\n",
    "    <p>This answers the second part of the question. There are <b>36 states</b> above the nattional average</p>\n",
    "    </div>"
   ]
  },
  {
   "cell_type": "markdown",
   "id": "d8344602",
   "metadata": {},
   "source": [
    "### Merge the Above Average and Below Average\n",
    "To visualize our result on the last question, decided to merge these that dataaframes to gain a comparative insight. before merging them, i will be adding a new column to identify which side of national average they belong to (i.e above or below).\n",
    "\n",
    "Numpy came in useful here."
   ]
  },
  {
   "cell_type": "markdown",
   "id": "b54411a1",
   "metadata": {},
   "source": [
    "Create an array that will be passed into the new column."
   ]
  },
  {
   "cell_type": "code",
   "execution_count": 26,
   "id": "7ada68bc",
   "metadata": {},
   "outputs": [],
   "source": [
    "above_tag = np.repeat('above', above_avg.shape[0])\n",
    "below_tag = np.repeat('below', below_avg.shape[0])"
   ]
  },
  {
   "cell_type": "markdown",
   "id": "aebf43b5",
   "metadata": {},
   "source": [
    "Add new column and confirm"
   ]
  },
  {
   "cell_type": "code",
   "execution_count": 27,
   "id": "ab5fc941",
   "metadata": {
    "scrolled": false
   },
   "outputs": [
    {
     "data": {
      "text/html": [
       "<div>\n",
       "<style scoped>\n",
       "    .dataframe tbody tr th:only-of-type {\n",
       "        vertical-align: middle;\n",
       "    }\n",
       "\n",
       "    .dataframe tbody tr th {\n",
       "        vertical-align: top;\n",
       "    }\n",
       "\n",
       "    .dataframe thead th {\n",
       "        text-align: right;\n",
       "    }\n",
       "</style>\n",
       "<table border=\"1\" class=\"dataframe\">\n",
       "  <thead>\n",
       "    <tr style=\"text-align: right;\">\n",
       "      <th></th>\n",
       "      <th>States</th>\n",
       "      <th>Average_check</th>\n",
       "      <th>National_avg_rank</th>\n",
       "    </tr>\n",
       "  </thead>\n",
       "  <tbody>\n",
       "    <tr>\n",
       "      <th>0</th>\n",
       "      <td>Alabama</td>\n",
       "      <td>29542.198238</td>\n",
       "      <td>above</td>\n",
       "    </tr>\n",
       "    <tr>\n",
       "      <th>1</th>\n",
       "      <td>California</td>\n",
       "      <td>83762.392070</td>\n",
       "      <td>above</td>\n",
       "    </tr>\n",
       "  </tbody>\n",
       "</table>\n",
       "</div>"
      ],
      "text/plain": [
       "       States  Average_check National_avg_rank\n",
       "0     Alabama   29542.198238             above\n",
       "1  California   83762.392070             above"
      ]
     },
     "execution_count": 27,
     "metadata": {},
     "output_type": "execute_result"
    }
   ],
   "source": [
    "above_avg['National_avg_rank']= above_tag\n",
    "below_avg['National_avg_rank']= below_tag\n",
    "above_avg.head(2)"
   ]
  },
  {
   "cell_type": "code",
   "execution_count": 28,
   "id": "3274cd4a",
   "metadata": {},
   "outputs": [
    {
     "data": {
      "text/html": [
       "<div>\n",
       "<style scoped>\n",
       "    .dataframe tbody tr th:only-of-type {\n",
       "        vertical-align: middle;\n",
       "    }\n",
       "\n",
       "    .dataframe tbody tr th {\n",
       "        vertical-align: top;\n",
       "    }\n",
       "\n",
       "    .dataframe thead th {\n",
       "        text-align: right;\n",
       "    }\n",
       "</style>\n",
       "<table border=\"1\" class=\"dataframe\">\n",
       "  <thead>\n",
       "    <tr style=\"text-align: right;\">\n",
       "      <th></th>\n",
       "      <th>States</th>\n",
       "      <th>Average_check</th>\n",
       "      <th>National_avg_rank</th>\n",
       "    </tr>\n",
       "  </thead>\n",
       "  <tbody>\n",
       "    <tr>\n",
       "      <th>0</th>\n",
       "      <td>Alaska</td>\n",
       "      <td>5011.643172</td>\n",
       "      <td>below</td>\n",
       "    </tr>\n",
       "    <tr>\n",
       "      <th>1</th>\n",
       "      <td>Arizona</td>\n",
       "      <td>19496.537445</td>\n",
       "      <td>below</td>\n",
       "    </tr>\n",
       "  </tbody>\n",
       "</table>\n",
       "</div>"
      ],
      "text/plain": [
       "    States  Average_check National_avg_rank\n",
       "0   Alaska    5011.643172             below\n",
       "1  Arizona   19496.537445             below"
      ]
     },
     "execution_count": 28,
     "metadata": {},
     "output_type": "execute_result"
    }
   ],
   "source": [
    "below_avg.head(2)"
   ]
  },
  {
   "cell_type": "markdown",
   "id": "c19d9624",
   "metadata": {},
   "source": [
    "Combine the `above_avg` and `below_avg` data frames and then plot with it."
   ]
  },
  {
   "cell_type": "code",
   "execution_count": 29,
   "id": "e7cea6b0",
   "metadata": {},
   "outputs": [],
   "source": [
    "states_avg_new = above_avg.append(below_avg)"
   ]
  },
  {
   "cell_type": "code",
   "execution_count": 30,
   "id": "0bd94828",
   "metadata": {},
   "outputs": [
    {
     "data": {
      "text/html": [
       "<div>\n",
       "<style scoped>\n",
       "    .dataframe tbody tr th:only-of-type {\n",
       "        vertical-align: middle;\n",
       "    }\n",
       "\n",
       "    .dataframe tbody tr th {\n",
       "        vertical-align: top;\n",
       "    }\n",
       "\n",
       "    .dataframe thead th {\n",
       "        text-align: right;\n",
       "    }\n",
       "</style>\n",
       "<table border=\"1\" class=\"dataframe\">\n",
       "  <thead>\n",
       "    <tr style=\"text-align: right;\">\n",
       "      <th></th>\n",
       "      <th>States</th>\n",
       "      <th>Average_check</th>\n",
       "      <th>National_avg_rank</th>\n",
       "    </tr>\n",
       "  </thead>\n",
       "  <tbody>\n",
       "    <tr>\n",
       "      <th>0</th>\n",
       "      <td>Alabama</td>\n",
       "      <td>29542.198238</td>\n",
       "      <td>above</td>\n",
       "    </tr>\n",
       "    <tr>\n",
       "      <th>1</th>\n",
       "      <td>California</td>\n",
       "      <td>83762.392070</td>\n",
       "      <td>above</td>\n",
       "    </tr>\n",
       "    <tr>\n",
       "      <th>2</th>\n",
       "      <td>Colorado</td>\n",
       "      <td>26689.348018</td>\n",
       "      <td>above</td>\n",
       "    </tr>\n",
       "  </tbody>\n",
       "</table>\n",
       "</div>"
      ],
      "text/plain": [
       "       States  Average_check National_avg_rank\n",
       "0     Alabama   29542.198238             above\n",
       "1  California   83762.392070             above\n",
       "2    Colorado   26689.348018             above"
      ]
     },
     "execution_count": 30,
     "metadata": {},
     "output_type": "execute_result"
    }
   ],
   "source": [
    "states_avg_new = states_avg_new.reset_index()\n",
    "del states_avg_new['index']\n",
    "states_avg_new.head(3)"
   ]
  },
  {
   "cell_type": "markdown",
   "id": "8c76ed40",
   "metadata": {},
   "source": [
    "I will be ploting a histogram to a general view of the distribution."
   ]
  },
  {
   "cell_type": "code",
   "execution_count": 31,
   "id": "cbc13ac0",
   "metadata": {},
   "outputs": [
    {
     "data": {
      "image/png": "[encoded data removed]",
      "text/plain": [
       "<Figure size 432x288 with 1 Axes>"
      ]
     },
     "metadata": {},
     "output_type": "display_data"
    }
   ],
   "source": [
    "histogram(states_avg_new)\n",
    "plt.title('Total background Registations Distribution')\n",
    "plt.xlabel('Average checks')\n",
    "plt.ylabel('Entries')\n",
    "plt.show()"
   ]
  },
  {
   "cell_type": "markdown",
   "id": "f327e132",
   "metadata": {},
   "source": [
    "<div class=\"alert-success\">\n",
    "    <p>The plot clearly displays the divide between the states with higher averages and those with lower averages. A bar chart will give more specific details about these states.</p>\n",
    "    </div>"
   ]
  },
  {
   "cell_type": "code",
   "execution_count": 32,
   "id": "bc75c028",
   "metadata": {},
   "outputs": [
    {
     "data": {
      "image/png": "[encoded data removed]",
      "text/plain": [
       "<Figure size 1440x576 with 1 Axes>"
      ]
     },
     "metadata": {},
     "output_type": "display_data"
    }
   ],
   "source": [
    "states_avg_new.plot(x='States', y= 'Average_check', kind='bar', figsize= (20,8));\n",
    "plt.title('Average Gun Registrations Across The US By States', fontsize=25)\n",
    "plt.xlabel('States',fontsize=18)\n",
    "plt.ylabel('Average',fontsize=18)\n",
    "plt.show()"
   ]
  },
  {
   "cell_type": "markdown",
   "id": "6a798797",
   "metadata": {},
   "source": [
    "<div class=\"alert-success\">\n",
    "<p>From the bar chart;</p>\n",
    "    <ul>\n",
    "        <li>Alabama to Wisconsin make up the above national average states. This is just a visualized confirmation of what we have already seen in the <b>above_avg</b> dataframe.\n",
    "        </li><br/>\n",
    "        <li>Similarly Alaska to Wyoming make up the below national average states. This is also just a visualized confirmation of what we have already seen in the <b>below_avg</b> dataframe.\n",
    "        </li>\n",
    "    </ul>\n",
    "    </div>"
   ]
  },
  {
   "cell_type": "code",
   "execution_count": 33,
   "id": "b9a2d9d8",
   "metadata": {},
   "outputs": [
    {
     "data": {
      "text/plain": [
       "National_avg_rank\n",
       "above    868959.277533\n",
       "below    318805.647577\n",
       "Name: Average_check, dtype: float64"
      ]
     },
     "execution_count": 33,
     "metadata": {},
     "output_type": "execute_result"
    }
   ],
   "source": [
    "states_avg_new.groupby('National_avg_rank')['Average_check'].sum()"
   ]
  },
  {
   "cell_type": "code",
   "execution_count": 34,
   "id": "c152e213",
   "metadata": {},
   "outputs": [],
   "source": [
    "colors = ['#3120E0', '#FFE898']"
   ]
  },
  {
   "cell_type": "code",
   "execution_count": 35,
   "id": "a6be8e71",
   "metadata": {
    "scrolled": true
   },
   "outputs": [
    {
     "data": {
      "image/png": "[encoded data removed]",
      "text/plain": [
       "<Figure size 432x288 with 1 Axes>"
      ]
     },
     "metadata": {},
     "output_type": "display_data"
    }
   ],
   "source": [
    "states_avg_new.groupby('National_avg_rank')['Average_check'].sum().plot(kind='bar', color=colors, alpha=.7);\n",
    "plt.title('Firearms Average Sales by Rank', fontsize=18)\n",
    "plt.xlabel('National Average Rank', fontsize= 13)\n",
    "plt.ylabel('Average Sales', fontsize= 13)\n",
    "plt.legend()\n",
    "plt.show()"
   ]
  },
  {
   "cell_type": "code",
   "execution_count": 36,
   "id": "9b5f118d",
   "metadata": {
    "slideshow": {
     "slide_type": "subslide"
    }
   },
   "outputs": [
    {
     "data": {
      "text/plain": [
       "73"
      ]
     },
     "execution_count": 36,
     "metadata": {},
     "output_type": "execute_result"
    }
   ],
   "source": [
    "above_percentage= round(((above_avg['Average_check'].sum())/(states_avg['Average_check'].sum()))*100)\n",
    "above_percentage"
   ]
  },
  {
   "cell_type": "markdown",
   "id": "244ee946",
   "metadata": {
    "slideshow": {
     "slide_type": "slide"
    }
   },
   "source": [
    "<div class=\"alert-success\">\n",
    "    <h3>Answer 5</h3>\n",
    "From my analysis, there are 19 states average above the national average with kentucky topping the list.\n",
    "The remaining 36 states make up the below average list, with Mariana Island having the least checks.\n",
    "\n",
    "I also wanted to find the percentage share of states above avegrage on total gun background checks.\n",
    "    <h4>The 19 states above the national average significantly make up more than half of all gun sales in the US recording <b>73%</b> of total sales</h4>\n",
    "    </div>"
   ]
  },
  {
   "cell_type": "markdown",
   "id": "b368d5f7",
   "metadata": {
    "slideshow": {
     "slide_type": "slide"
    }
   },
   "source": [
    "<a id='conclusions'></a>\n",
    "## Conclusions\n",
    "\n",
    "From my analysis;\n",
    "1. kentucky has the busiest gun sales in the country while Mariana Islands records the least of this activity.\n",
    "\n",
    "\n",
    "2. The states nineteen states with state average for total gun background checks make up 73 percent of total gun purchaces in the US.\n",
    "\n",
    "3. The overall trend of gun purchase in the US has continuously increased in within the timeframe provided in the data.\n",
    "\n",
    "4. handguns and long-guns make up the majority of gun sales.\n",
    "\n",
    "#### It's important to note that i did no causation analysis, hence this analysis are only observations from data provided.\n",
    "\n",
    "#### I wasn't able to link any correlation between the NICS dataframe and the Census dataframe.\n",
    "\n"
   ]
  },
  {
   "cell_type": "markdown",
   "id": "17bd8cf2",
   "metadata": {
    "slideshow": {
     "slide_type": "slide"
    }
   },
   "source": [
    "## References\n",
    "1. [stackoverflow](https://stackoverflow.com/) `https://stackoverflow.com/`.\n",
    "2. [Panadas](https://pandas.pydata.org/docs/reference/api/pandas.DataFrame.set_index.html) `https://pandas.pydata.org/docs/reference/api/pandas.DataFrame.set_index.html`\n",
    "3. [MachineLearningPlus](https://www.machinelearningplus.com/pandas/pandas-reset-index/#:~:text=To%20reset%20the%20index%20in,()%20with%20the%20dataframe%20object.&text=On%20applying%20the%20.,dataframe%20as%20a%20separate%20column.)\n",
    "\n",
    "__NB__\n",
    "*I refered to these sites to further learn how to write the code for my concepts.*"
   ]
  },
  {
   "cell_type": "code",
   "execution_count": null,
   "id": "0a8296b6",
   "metadata": {},
   "outputs": [],
   "source": []
  }
 ],
 "metadata": {
  "kernelspec": {
   "display_name": "Python 3",
   "language": "python",
   "name": "python3"
  },
  "language_info": {
   "codemirror_mode": {
    "name": "ipython",
    "version": 3
   },
   "file_extension": ".py",
   "mimetype": "text/x-python",
   "name": "python",
   "nbconvert_exporter": "python",
   "pygments_lexer": "ipython3",
   "version": "3.6.13"
  }
 },
 "nbformat": 4,
 "nbformat_minor": 5
}
